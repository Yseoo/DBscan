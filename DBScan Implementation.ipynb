{
 "cells": [
  {
   "cell_type": "markdown",
   "metadata": {},
   "source": [
    "# Test DBScan Implementation"
   ]
  },
  {
   "cell_type": "markdown",
   "metadata": {},
   "source": [
    "#### Used Libraries Importation"
   ]
  },
  {
   "cell_type": "code",
   "execution_count": 1,
   "metadata": {},
   "outputs": [],
   "source": [
    "import pandas as pd\n",
    "import numpy as np\n",
    "import matplotlib.pyplot as plt\n",
    "import math as m"
   ]
  },
  {
   "cell_type": "markdown",
   "metadata": {},
   "source": [
    "#### Used Dataset Importation"
   ]
  },
  {
   "cell_type": "code",
   "execution_count": 2,
   "metadata": {},
   "outputs": [
    {
     "data": {
      "text/html": [
       "<div>\n",
       "<style scoped>\n",
       "    .dataframe tbody tr th:only-of-type {\n",
       "        vertical-align: middle;\n",
       "    }\n",
       "\n",
       "    .dataframe tbody tr th {\n",
       "        vertical-align: top;\n",
       "    }\n",
       "\n",
       "    .dataframe thead th {\n",
       "        text-align: right;\n",
       "    }\n",
       "</style>\n",
       "<table border=\"1\" class=\"dataframe\">\n",
       "  <thead>\n",
       "    <tr style=\"text-align: right;\">\n",
       "      <th></th>\n",
       "      <th>x1</th>\n",
       "      <th>x2</th>\n",
       "    </tr>\n",
       "  </thead>\n",
       "  <tbody>\n",
       "    <tr>\n",
       "      <th>0</th>\n",
       "      <td>537.288</td>\n",
       "      <td>126.784</td>\n",
       "    </tr>\n",
       "    <tr>\n",
       "      <th>1</th>\n",
       "      <td>480.739</td>\n",
       "      <td>177.092</td>\n",
       "    </tr>\n",
       "    <tr>\n",
       "      <th>2</th>\n",
       "      <td>484.111</td>\n",
       "      <td>112.014</td>\n",
       "    </tr>\n",
       "    <tr>\n",
       "      <th>3</th>\n",
       "      <td>535.600</td>\n",
       "      <td>201.025</td>\n",
       "    </tr>\n",
       "    <tr>\n",
       "      <th>4</th>\n",
       "      <td>560.843</td>\n",
       "      <td>200.522</td>\n",
       "    </tr>\n",
       "  </tbody>\n",
       "</table>\n",
       "</div>"
      ],
      "text/plain": [
       "        x1       x2\n",
       "0  537.288  126.784\n",
       "1  480.739  177.092\n",
       "2  484.111  112.014\n",
       "3  535.600  201.025\n",
       "4  560.843  200.522"
      ]
     },
     "execution_count": 2,
     "metadata": {},
     "output_type": "execute_result"
    }
   ],
   "source": [
    "data = pd.read_csv(\"spreadTest.csv\", delimiter = ',', header=0, dtype={'x1':np.float64, 'x2':np.float64})\n",
    "data.head()"
   ]
  },
  {
   "cell_type": "code",
   "execution_count": 3,
   "metadata": {},
   "outputs": [],
   "source": [
    "xd = data.values.tolist()"
   ]
  },
  {
   "cell_type": "markdown",
   "metadata": {},
   "source": [
    "#### Implementation"
   ]
  },
  {
   "cell_type": "code",
   "execution_count": 4,
   "metadata": {},
   "outputs": [],
   "source": [
    "def getN(xtot, xi, eps):\n",
    "    Nb = []\n",
    "    for xj in xtot:\n",
    "        dist = m.dist(xi,xj)\n",
    "        if dist <= eps and dist != 0:\n",
    "            Nb.append(xj)\n",
    "    return Nb"
   ]
  },
  {
   "cell_type": "code",
   "execution_count": 5,
   "metadata": {},
   "outputs": [],
   "source": [
    "def DBscan(xdata,e,minp):\n",
    "    K=0\n",
    "    cores = []\n",
    "    label = []\n",
    "    for i in range(len(xdata)):\n",
    "        label.append('Noise')\n",
    "\n",
    "    for i in range (len(xdata)):\n",
    "        Nbxi = getN(xdata, xdata[i], e)\n",
    "        if len(Nbxi) >= (minp-1) :\n",
    "            cores.append(xdata[i])\n",
    "\n",
    "    for c in cores:\n",
    "        i = xdata.index(c)\n",
    "        if label[i] == 'Noise':\n",
    "            K+=1\n",
    "            label[i] = K\n",
    "            Nbci = getN(xdata, c, e)\n",
    "            Rs = Nbci\n",
    "            while Rs:\n",
    "                r = Rs[-1]\n",
    "                j=xdata.index(r)\n",
    "                Rs.pop()\n",
    "                if label[j] == 'Noise':\n",
    "                    label[j] = K\n",
    "                    if r in cores:\n",
    "                        Nr = getN(xdata,r,e)\n",
    "                        Rs += Nr\n",
    "    return label"
   ]
  },
  {
   "cell_type": "code",
   "execution_count": 14,
   "metadata": {},
   "outputs": [
    {
     "data": {
      "image/png": "[encoded data removed]",
      "text/plain": [
       "<Figure size 640x480 with 1 Axes>"
      ]
     },
     "metadata": {},
     "output_type": "display_data"
    }
   ],
   "source": [
    "epsilon = 100\n",
    "MinPoint = 3\n",
    "\n",
    "label = DBscan(xd,epsilon,MinPoint)\n",
    "\n",
    "scatterpt = np.asarray(xd)\n",
    "group = np.asarray(label)\n",
    "fig, ax = plt.subplots()\n",
    "for g in np.unique(group):\n",
    "    ix = np.where(group == g)\n",
    "    ax.scatter(scatterpt[:,0][ix], scatterpt[:,1][ix], label=g)\n",
    "ax.legend()\n",
    "plt.show()"
   ]
  },
  {
   "cell_type": "code",
   "execution_count": null,
   "metadata": {},
   "outputs": [],
   "source": []
  }
 ],
 "metadata": {
  "kernelspec": {
   "display_name": "Python 3.10.7 64-bit",
   "language": "python",
   "name": "python3"
  },
  "language_info": {
   "codemirror_mode": {
    "name": "ipython",
    "version": 3
   },
   "file_extension": ".py",
   "mimetype": "text/x-python",
   "name": "python",
   "nbconvert_exporter": "python",
   "pygments_lexer": "ipython3",
   "version": "3.10.7"
  },
  "orig_nbformat": 4,
  "vscode": {
   "interpreter": {
    "hash": "19b2425bd8818a75eeb1464c3c6019dd20e06a6d0783f798d5a278caf8741f3f"
   }
  }
 },
 "nbformat": 4,
 "nbformat_minor": 2
}
